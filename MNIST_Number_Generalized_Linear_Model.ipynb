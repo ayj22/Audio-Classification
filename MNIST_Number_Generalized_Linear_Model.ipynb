{
  "nbformat": 4,
  "nbformat_minor": 0,
  "metadata": {
    "colab": {
      "name": "MNIST_Number_Generalized Linear Model",
      "provenance": [],
      "collapsed_sections": []
    },
    "kernelspec": {
      "display_name": "Python 3",
      "name": "python3"
    }
  },
  "cells": [
    {
      "cell_type": "markdown",
      "metadata": {
        "id": "BLJJLPqawqA0"
      },
      "source": [
        "**Problem Statement:** Implement a basic character recognition system of handwritten digits using logistic regression. The data set provided contains instances of the 10 digits available (0 through 9). Your goal is to train and test 10 different logistic regression models, one per digit.\n",
        "\n",
        "Data Source: https://drive.google.com/file/d/1uMCvIV-KPzFQBeOCVvFWqvISUUrySLzH/view\n",
        "\n",
        "Each image is encoded as a row of 784 integer values between 0 and 255 indicating the brightness of each pixel. The label associated with each image is encoded as an integer value between 0 and 9. The file contain 785 columns. The first column corresponds to the digit labels (0-9) and the remaining 784 columns correspond to the pixel values of the 28x28=784 pixels of the image.\n",
        "\n"
      ]
    },
    {
      "cell_type": "code",
      "metadata": {
        "id": "BDx_hDd6lkk9"
      },
      "source": [
        "# Importing libraries\n",
        "import pandas as pd\n",
        "import numpy as np\n",
        "from sklearn.linear_model import LogisticRegression\n",
        "from sklearn.metrics import accuracy_score,confusion_matrix\n",
        "from numpy import exp"
      ],
      "execution_count": null,
      "outputs": []
    },
    {
      "cell_type": "code",
      "metadata": {
        "id": "A40CAziil4qA"
      },
      "source": [
        "#Importing train and test datasets\n",
        "train = pd.read_csv(\"mnist_train.csv\")\n",
        "test = pd.read_csv(\"mnist_test.csv\")"
      ],
      "execution_count": null,
      "outputs": []
    },
    {
      "cell_type": "markdown",
      "metadata": {
        "id": "oydRxAy3uZht"
      },
      "source": [
        "As per Prof William M.K. Trochim by using dummy variable to represent the subgroups of the dataset. Dummy varible helps in utilizing one regression equation to showcase multiple groups. \n",
        "\n",
        "Source: www.shorturl.at/pGMPW"
      ]
    },
    {
      "cell_type": "code",
      "metadata": {
        "id": "cr596e5moM4D"
      },
      "source": [
        "#Applying the dummy variable function\n",
        "train_dummy = pd.get_dummies(train['5']) \n",
        "test_dummy = pd.get_dummies(test['7']) "
      ],
      "execution_count": null,
      "outputs": []
    },
    {
      "cell_type": "code",
      "metadata": {
        "id": "m_ItGw9AnJxE"
      },
      "source": [
        "data_train = pd.merge(train_dummy,train.iloc[:,1:],how='left',left_index=True,right_index=True)\n",
        "data_test = pd.merge(test_dummy,test.iloc[:,1:],how='left',left_index=True,right_index=True)"
      ],
      "execution_count": null,
      "outputs": []
    },
    {
      "cell_type": "code",
      "metadata": {
        "id": "8gpNrfxjz4yo"
      },
      "source": [
        "import warnings \n",
        "warnings.filterwarnings('ignore')\n",
        "\n",
        "#Modelling regression model for 10 digits 0 to 9\n",
        "final_predictions=[]\n",
        "for i in range(0,10):\n",
        "#Separating the x and y values from training set\n",
        "  x_train= data_train.iloc[:,11:]\n",
        "  y_train = data_train.iloc[:,i]\n",
        "#Separating the x and y values from testing set\n",
        "  x_test= data_test.iloc[:,11:]\n",
        "  y_test = data_test.iloc[:,i]  \n",
        "#Appling and fitting the model\n",
        "  model = LogisticRegression(penalty='l2', max_iter=200, multi_class= \"ovr\", random_state=0)\n",
        "  model.fit(x_train,y_train)\n",
        "  #print(model.score(x_test,y_test))\n",
        "#Predicting the prediction probability on test set\n",
        "  predictions = model.predict_proba(x_test)\n",
        "  final_predictions.append(list(predictions[:,1]))"
      ],
      "execution_count": null,
      "outputs": []
    },
    {
      "cell_type": "code",
      "metadata": {
        "id": "ka3IFART51rw",
        "colab": {
          "base_uri": "https://localhost:8080/",
          "height": 407
        },
        "outputId": "d4991975-861c-4494-dc05-a9c8b8e91a62"
      },
      "source": [
        "#Formatting the x_test probabilities into dataframe\n",
        "pd.options.display.float_format = '{:.2f}'.format\n",
        "x_test_probabilities = pd.DataFrame(final_predictions).T\n",
        "x_test_probabilities"
      ],
      "execution_count": null,
      "outputs": [
        {
          "output_type": "execute_result",
          "data": {
            "text/html": [
              "<div>\n",
              "<style scoped>\n",
              "    .dataframe tbody tr th:only-of-type {\n",
              "        vertical-align: middle;\n",
              "    }\n",
              "\n",
              "    .dataframe tbody tr th {\n",
              "        vertical-align: top;\n",
              "    }\n",
              "\n",
              "    .dataframe thead th {\n",
              "        text-align: right;\n",
              "    }\n",
              "</style>\n",
              "<table border=\"1\" class=\"dataframe\">\n",
              "  <thead>\n",
              "    <tr style=\"text-align: right;\">\n",
              "      <th></th>\n",
              "      <th>0</th>\n",
              "      <th>1</th>\n",
              "      <th>2</th>\n",
              "      <th>3</th>\n",
              "      <th>4</th>\n",
              "      <th>5</th>\n",
              "      <th>6</th>\n",
              "      <th>7</th>\n",
              "      <th>8</th>\n",
              "      <th>9</th>\n",
              "    </tr>\n",
              "  </thead>\n",
              "  <tbody>\n",
              "    <tr>\n",
              "      <th>0</th>\n",
              "      <td>0.00</td>\n",
              "      <td>0.00</td>\n",
              "      <td>1.00</td>\n",
              "      <td>0.00</td>\n",
              "      <td>0.00</td>\n",
              "      <td>0.08</td>\n",
              "      <td>0.03</td>\n",
              "      <td>0.00</td>\n",
              "      <td>0.00</td>\n",
              "      <td>0.00</td>\n",
              "    </tr>\n",
              "    <tr>\n",
              "      <th>1</th>\n",
              "      <td>0.00</td>\n",
              "      <td>0.99</td>\n",
              "      <td>0.04</td>\n",
              "      <td>0.01</td>\n",
              "      <td>0.00</td>\n",
              "      <td>0.01</td>\n",
              "      <td>0.03</td>\n",
              "      <td>0.00</td>\n",
              "      <td>0.02</td>\n",
              "      <td>0.00</td>\n",
              "    </tr>\n",
              "    <tr>\n",
              "      <th>2</th>\n",
              "      <td>1.00</td>\n",
              "      <td>0.00</td>\n",
              "      <td>0.00</td>\n",
              "      <td>0.00</td>\n",
              "      <td>0.00</td>\n",
              "      <td>0.00</td>\n",
              "      <td>0.00</td>\n",
              "      <td>0.00</td>\n",
              "      <td>0.00</td>\n",
              "      <td>0.00</td>\n",
              "    </tr>\n",
              "    <tr>\n",
              "      <th>3</th>\n",
              "      <td>0.00</td>\n",
              "      <td>0.00</td>\n",
              "      <td>0.01</td>\n",
              "      <td>0.00</td>\n",
              "      <td>0.98</td>\n",
              "      <td>0.00</td>\n",
              "      <td>0.00</td>\n",
              "      <td>0.01</td>\n",
              "      <td>0.06</td>\n",
              "      <td>0.10</td>\n",
              "    </tr>\n",
              "    <tr>\n",
              "      <th>4</th>\n",
              "      <td>0.00</td>\n",
              "      <td>1.00</td>\n",
              "      <td>0.02</td>\n",
              "      <td>0.02</td>\n",
              "      <td>0.00</td>\n",
              "      <td>0.00</td>\n",
              "      <td>0.00</td>\n",
              "      <td>0.02</td>\n",
              "      <td>0.03</td>\n",
              "      <td>0.02</td>\n",
              "    </tr>\n",
              "    <tr>\n",
              "      <th>...</th>\n",
              "      <td>...</td>\n",
              "      <td>...</td>\n",
              "      <td>...</td>\n",
              "      <td>...</td>\n",
              "      <td>...</td>\n",
              "      <td>...</td>\n",
              "      <td>...</td>\n",
              "      <td>...</td>\n",
              "      <td>...</td>\n",
              "      <td>...</td>\n",
              "    </tr>\n",
              "    <tr>\n",
              "      <th>9994</th>\n",
              "      <td>0.00</td>\n",
              "      <td>0.00</td>\n",
              "      <td>1.00</td>\n",
              "      <td>0.00</td>\n",
              "      <td>0.00</td>\n",
              "      <td>0.00</td>\n",
              "      <td>0.00</td>\n",
              "      <td>0.00</td>\n",
              "      <td>0.04</td>\n",
              "      <td>0.00</td>\n",
              "    </tr>\n",
              "    <tr>\n",
              "      <th>9995</th>\n",
              "      <td>0.00</td>\n",
              "      <td>0.00</td>\n",
              "      <td>0.00</td>\n",
              "      <td>0.99</td>\n",
              "      <td>0.00</td>\n",
              "      <td>0.00</td>\n",
              "      <td>0.00</td>\n",
              "      <td>0.00</td>\n",
              "      <td>0.00</td>\n",
              "      <td>0.00</td>\n",
              "    </tr>\n",
              "    <tr>\n",
              "      <th>9996</th>\n",
              "      <td>0.00</td>\n",
              "      <td>0.00</td>\n",
              "      <td>0.00</td>\n",
              "      <td>0.00</td>\n",
              "      <td>0.89</td>\n",
              "      <td>0.00</td>\n",
              "      <td>0.00</td>\n",
              "      <td>0.00</td>\n",
              "      <td>0.01</td>\n",
              "      <td>0.03</td>\n",
              "    </tr>\n",
              "    <tr>\n",
              "      <th>9997</th>\n",
              "      <td>0.00</td>\n",
              "      <td>0.00</td>\n",
              "      <td>0.00</td>\n",
              "      <td>0.00</td>\n",
              "      <td>0.00</td>\n",
              "      <td>1.00</td>\n",
              "      <td>0.00</td>\n",
              "      <td>0.00</td>\n",
              "      <td>0.07</td>\n",
              "      <td>0.00</td>\n",
              "    </tr>\n",
              "    <tr>\n",
              "      <th>9998</th>\n",
              "      <td>0.00</td>\n",
              "      <td>0.00</td>\n",
              "      <td>0.00</td>\n",
              "      <td>0.00</td>\n",
              "      <td>0.00</td>\n",
              "      <td>0.00</td>\n",
              "      <td>1.00</td>\n",
              "      <td>0.00</td>\n",
              "      <td>0.00</td>\n",
              "      <td>0.00</td>\n",
              "    </tr>\n",
              "  </tbody>\n",
              "</table>\n",
              "<p>9999 rows × 10 columns</p>\n",
              "</div>"
            ],
            "text/plain": [
              "        0    1    2    3    4    5    6    7    8    9\n",
              "0    0.00 0.00 1.00 0.00 0.00 0.08 0.03 0.00 0.00 0.00\n",
              "1    0.00 0.99 0.04 0.01 0.00 0.01 0.03 0.00 0.02 0.00\n",
              "2    1.00 0.00 0.00 0.00 0.00 0.00 0.00 0.00 0.00 0.00\n",
              "3    0.00 0.00 0.01 0.00 0.98 0.00 0.00 0.01 0.06 0.10\n",
              "4    0.00 1.00 0.02 0.02 0.00 0.00 0.00 0.02 0.03 0.02\n",
              "...   ...  ...  ...  ...  ...  ...  ...  ...  ...  ...\n",
              "9994 0.00 0.00 1.00 0.00 0.00 0.00 0.00 0.00 0.04 0.00\n",
              "9995 0.00 0.00 0.00 0.99 0.00 0.00 0.00 0.00 0.00 0.00\n",
              "9996 0.00 0.00 0.00 0.00 0.89 0.00 0.00 0.00 0.01 0.03\n",
              "9997 0.00 0.00 0.00 0.00 0.00 1.00 0.00 0.00 0.07 0.00\n",
              "9998 0.00 0.00 0.00 0.00 0.00 0.00 1.00 0.00 0.00 0.00\n",
              "\n",
              "[9999 rows x 10 columns]"
            ]
          },
          "metadata": {
            "tags": []
          },
          "execution_count": 52
        }
      ]
    },
    {
      "cell_type": "code",
      "metadata": {
        "id": "VJ-GrCcmFT14"
      },
      "source": [
        "# Calculating the softmax of a vector\n",
        "def softmax(vector):\n",
        "\tvalue = exp(vector)\n",
        "\treturn value / value.sum()\n",
        " \n",
        "sm_results = []\n",
        "for i in x_test_probabilities.values:\n",
        "  sm_results.append(softmax(i))\n",
        "\n",
        "results = pd.DataFrame(sm_results)"
      ],
      "execution_count": null,
      "outputs": []
    },
    {
      "cell_type": "code",
      "metadata": {
        "id": "3UxFqWANKDg5"
      },
      "source": [
        "def max_probability(x):\n",
        "  list_1 = list(x.values)\n",
        "  max_proba = max(list_1)\n",
        "  return list_1.index(max_proba)"
      ],
      "execution_count": null,
      "outputs": []
    },
    {
      "cell_type": "code",
      "metadata": {
        "colab": {
          "base_uri": "https://localhost:8080/",
          "height": 407
        },
        "id": "gtKxLCIVKgP-",
        "outputId": "7ca16073-ede6-49b8-c79d-2d1f04972a51"
      },
      "source": [
        "#Showcasing the final predictions\n",
        "results['final_prediction'] = results.apply(max_probability,axis=1)\n",
        "results"
      ],
      "execution_count": null,
      "outputs": [
        {
          "output_type": "execute_result",
          "data": {
            "text/html": [
              "<div>\n",
              "<style scoped>\n",
              "    .dataframe tbody tr th:only-of-type {\n",
              "        vertical-align: middle;\n",
              "    }\n",
              "\n",
              "    .dataframe tbody tr th {\n",
              "        vertical-align: top;\n",
              "    }\n",
              "\n",
              "    .dataframe thead th {\n",
              "        text-align: right;\n",
              "    }\n",
              "</style>\n",
              "<table border=\"1\" class=\"dataframe\">\n",
              "  <thead>\n",
              "    <tr style=\"text-align: right;\">\n",
              "      <th></th>\n",
              "      <th>0</th>\n",
              "      <th>1</th>\n",
              "      <th>2</th>\n",
              "      <th>3</th>\n",
              "      <th>4</th>\n",
              "      <th>5</th>\n",
              "      <th>6</th>\n",
              "      <th>7</th>\n",
              "      <th>8</th>\n",
              "      <th>9</th>\n",
              "      <th>final_prediction</th>\n",
              "    </tr>\n",
              "  </thead>\n",
              "  <tbody>\n",
              "    <tr>\n",
              "      <th>0</th>\n",
              "      <td>0.08</td>\n",
              "      <td>0.08</td>\n",
              "      <td>0.23</td>\n",
              "      <td>0.08</td>\n",
              "      <td>0.08</td>\n",
              "      <td>0.09</td>\n",
              "      <td>0.09</td>\n",
              "      <td>0.08</td>\n",
              "      <td>0.08</td>\n",
              "      <td>0.08</td>\n",
              "      <td>2</td>\n",
              "    </tr>\n",
              "    <tr>\n",
              "      <th>1</th>\n",
              "      <td>0.08</td>\n",
              "      <td>0.23</td>\n",
              "      <td>0.09</td>\n",
              "      <td>0.09</td>\n",
              "      <td>0.08</td>\n",
              "      <td>0.09</td>\n",
              "      <td>0.09</td>\n",
              "      <td>0.08</td>\n",
              "      <td>0.09</td>\n",
              "      <td>0.08</td>\n",
              "      <td>1</td>\n",
              "    </tr>\n",
              "    <tr>\n",
              "      <th>2</th>\n",
              "      <td>0.23</td>\n",
              "      <td>0.09</td>\n",
              "      <td>0.09</td>\n",
              "      <td>0.09</td>\n",
              "      <td>0.09</td>\n",
              "      <td>0.09</td>\n",
              "      <td>0.09</td>\n",
              "      <td>0.09</td>\n",
              "      <td>0.09</td>\n",
              "      <td>0.09</td>\n",
              "      <td>0</td>\n",
              "    </tr>\n",
              "    <tr>\n",
              "      <th>3</th>\n",
              "      <td>0.08</td>\n",
              "      <td>0.08</td>\n",
              "      <td>0.09</td>\n",
              "      <td>0.08</td>\n",
              "      <td>0.22</td>\n",
              "      <td>0.08</td>\n",
              "      <td>0.08</td>\n",
              "      <td>0.08</td>\n",
              "      <td>0.09</td>\n",
              "      <td>0.09</td>\n",
              "      <td>4</td>\n",
              "    </tr>\n",
              "    <tr>\n",
              "      <th>4</th>\n",
              "      <td>0.08</td>\n",
              "      <td>0.23</td>\n",
              "      <td>0.09</td>\n",
              "      <td>0.09</td>\n",
              "      <td>0.08</td>\n",
              "      <td>0.08</td>\n",
              "      <td>0.08</td>\n",
              "      <td>0.09</td>\n",
              "      <td>0.09</td>\n",
              "      <td>0.09</td>\n",
              "      <td>1</td>\n",
              "    </tr>\n",
              "    <tr>\n",
              "      <th>...</th>\n",
              "      <td>...</td>\n",
              "      <td>...</td>\n",
              "      <td>...</td>\n",
              "      <td>...</td>\n",
              "      <td>...</td>\n",
              "      <td>...</td>\n",
              "      <td>...</td>\n",
              "      <td>...</td>\n",
              "      <td>...</td>\n",
              "      <td>...</td>\n",
              "      <td>...</td>\n",
              "    </tr>\n",
              "    <tr>\n",
              "      <th>9994</th>\n",
              "      <td>0.09</td>\n",
              "      <td>0.09</td>\n",
              "      <td>0.23</td>\n",
              "      <td>0.09</td>\n",
              "      <td>0.09</td>\n",
              "      <td>0.09</td>\n",
              "      <td>0.09</td>\n",
              "      <td>0.09</td>\n",
              "      <td>0.09</td>\n",
              "      <td>0.09</td>\n",
              "      <td>2</td>\n",
              "    </tr>\n",
              "    <tr>\n",
              "      <th>9995</th>\n",
              "      <td>0.09</td>\n",
              "      <td>0.09</td>\n",
              "      <td>0.09</td>\n",
              "      <td>0.23</td>\n",
              "      <td>0.09</td>\n",
              "      <td>0.09</td>\n",
              "      <td>0.09</td>\n",
              "      <td>0.09</td>\n",
              "      <td>0.09</td>\n",
              "      <td>0.09</td>\n",
              "      <td>3</td>\n",
              "    </tr>\n",
              "    <tr>\n",
              "      <th>9996</th>\n",
              "      <td>0.09</td>\n",
              "      <td>0.09</td>\n",
              "      <td>0.09</td>\n",
              "      <td>0.09</td>\n",
              "      <td>0.21</td>\n",
              "      <td>0.09</td>\n",
              "      <td>0.09</td>\n",
              "      <td>0.09</td>\n",
              "      <td>0.09</td>\n",
              "      <td>0.09</td>\n",
              "      <td>4</td>\n",
              "    </tr>\n",
              "    <tr>\n",
              "      <th>9997</th>\n",
              "      <td>0.08</td>\n",
              "      <td>0.08</td>\n",
              "      <td>0.08</td>\n",
              "      <td>0.08</td>\n",
              "      <td>0.08</td>\n",
              "      <td>0.23</td>\n",
              "      <td>0.08</td>\n",
              "      <td>0.08</td>\n",
              "      <td>0.09</td>\n",
              "      <td>0.08</td>\n",
              "      <td>5</td>\n",
              "    </tr>\n",
              "    <tr>\n",
              "      <th>9998</th>\n",
              "      <td>0.09</td>\n",
              "      <td>0.09</td>\n",
              "      <td>0.09</td>\n",
              "      <td>0.09</td>\n",
              "      <td>0.09</td>\n",
              "      <td>0.09</td>\n",
              "      <td>0.23</td>\n",
              "      <td>0.09</td>\n",
              "      <td>0.09</td>\n",
              "      <td>0.09</td>\n",
              "      <td>6</td>\n",
              "    </tr>\n",
              "  </tbody>\n",
              "</table>\n",
              "<p>9999 rows × 11 columns</p>\n",
              "</div>"
            ],
            "text/plain": [
              "        0    1    2    3    4    5    6    7    8    9  final_prediction\n",
              "0    0.08 0.08 0.23 0.08 0.08 0.09 0.09 0.08 0.08 0.08                 2\n",
              "1    0.08 0.23 0.09 0.09 0.08 0.09 0.09 0.08 0.09 0.08                 1\n",
              "2    0.23 0.09 0.09 0.09 0.09 0.09 0.09 0.09 0.09 0.09                 0\n",
              "3    0.08 0.08 0.09 0.08 0.22 0.08 0.08 0.08 0.09 0.09                 4\n",
              "4    0.08 0.23 0.09 0.09 0.08 0.08 0.08 0.09 0.09 0.09                 1\n",
              "...   ...  ...  ...  ...  ...  ...  ...  ...  ...  ...               ...\n",
              "9994 0.09 0.09 0.23 0.09 0.09 0.09 0.09 0.09 0.09 0.09                 2\n",
              "9995 0.09 0.09 0.09 0.23 0.09 0.09 0.09 0.09 0.09 0.09                 3\n",
              "9996 0.09 0.09 0.09 0.09 0.21 0.09 0.09 0.09 0.09 0.09                 4\n",
              "9997 0.08 0.08 0.08 0.08 0.08 0.23 0.08 0.08 0.09 0.08                 5\n",
              "9998 0.09 0.09 0.09 0.09 0.09 0.09 0.23 0.09 0.09 0.09                 6\n",
              "\n",
              "[9999 rows x 11 columns]"
            ]
          },
          "metadata": {
            "tags": []
          },
          "execution_count": 55
        }
      ]
    },
    {
      "cell_type": "code",
      "metadata": {
        "colab": {
          "base_uri": "https://localhost:8080/"
        },
        "id": "8uFZiLyPL_bY",
        "outputId": "b807a913-a4cd-427e-f5a2-44b578870ae7"
      },
      "source": [
        "# Calculating the accuracy score\n",
        "accuracy_score(results['final_prediction'],test['7'])"
      ],
      "execution_count": null,
      "outputs": [
        {
          "output_type": "execute_result",
          "data": {
            "text/plain": [
              "0.9181918191819182"
            ]
          },
          "metadata": {
            "tags": []
          },
          "execution_count": 56
        }
      ]
    },
    {
      "cell_type": "code",
      "metadata": {
        "colab": {
          "base_uri": "https://localhost:8080/"
        },
        "id": "c0j_r5lPFrZu",
        "outputId": "e9348875-5621-4885-f83f-fc1de7d5ccde"
      },
      "source": [
        "#Creating the confusion matrix to analyze the results\n",
        "confusion_matrix(results['final_prediction'],test['7'],labels=None, sample_weight=None, normalize=None)"
      ],
      "execution_count": null,
      "outputs": [
        {
          "output_type": "execute_result",
          "data": {
            "text/plain": [
              "array([[ 960,    0,    6,    3,    1,   10,    8,    3,    8,   10],\n",
              "       [   0, 1118,    9,    1,    2,    2,    3,    6,   12,    6],\n",
              "       [   1,    3,  907,   17,    3,    0,    9,   22,    6,    1],\n",
              "       [   2,    1,   19,  919,    4,   40,    1,    5,   23,   16],\n",
              "       [   0,    0,    8,    2,  906,   11,    4,    7,   11,   31],\n",
              "       [   2,    1,    5,   21,    0,  756,   18,    2,   25,    3],\n",
              "       [   7,    4,   10,    5,   12,   17,  909,    1,    7,    0],\n",
              "       [   2,    1,   12,   11,    3,    9,    0,  945,   11,   26],\n",
              "       [   4,    6,   53,   23,   11,   37,    6,    3,  861,   16],\n",
              "       [   2,    1,    3,    8,   40,   10,    0,   33,   10,  900]])"
            ]
          },
          "metadata": {
            "tags": []
          },
          "execution_count": 57
        }
      ]
    }
  ]
}